{
 "cells": [
  {
   "cell_type": "markdown",
   "metadata": {},
   "source": [
    "# SQL query examples\n",
    "### This notebook contains example queries to the EFSA database we created. This is to provide an idea how the database structure works in practice.\n",
    "Author: Wouter Hoenderdaal\\\n",
    "Edited by: Osman Mutlu"
   ]
  },
  {
   "cell_type": "markdown",
   "metadata": {},
   "source": [
    "### Imagine a scenario where you are researching mycotoxins.\n",
    "### Let's first look at what parameters does EFSA have in the database."
   ]
  },
  {
   "cell_type": "code",
   "execution_count": null,
   "metadata": {
    "vscode": {
     "languageId": "sql"
    }
   },
   "outputs": [],
   "source": [
    "-- We use this temporary table for later queries \n",
    "CREATE TABLE efsa.tmp_mycotoxines\n",
    "AS\n",
    "SELECT *\n",
    "FROM ontologies_efsa.vw_param\n",
    "WHERE totalname LIKE '%mycoto%'\n",
    ";\n",
    "\n",
    "-- nr of mycotoxine measurements\n",
    "SELECT sm.filetype, sm.param, COUNT(*) AS n\n",
    "FROM efsa.vw_sample_measurement_core_legallimit sm\n",
    "JOIN efsa.tmp_mycotoxines t\n",
    "\tON sm.param = t.termextendedname\n",
    "GROUP BY sm.filetype, sm.param\n",
    "ORDER BY COUNT(*) DESC;"
   ]
  },
  {
   "cell_type": "markdown",
   "metadata": {
    "vscode": {
     "languageId": "sql"
    }
   },
   "source": [
    "### We may want to see this per sampling country..."
   ]
  },
  {
   "cell_type": "code",
   "execution_count": null,
   "metadata": {
    "vscode": {
     "languageId": "sql"
    }
   },
   "outputs": [],
   "source": [
    "-- nr of mycotoxine measurements per sampcountry\n",
    "SELECT sampcountry, COUNT(*) AS n\n",
    "FROM efsa.vw_sample_measurement_core_legallimit sm\n",
    "JOIN efsa.tmp_mycotoxines t\n",
    "\tON sm.param = t.termextendedname\n",
    "WHERE sm.filetype = 'chemical'\n",
    "GROUP BY sampcountry\n",
    "ORDER BY COUNT(*) DESC;"
   ]
  },
  {
   "cell_type": "markdown",
   "metadata": {},
   "source": [
    "### Lastly, we may want to exclude samples that were suspicious for a more unbiased sampling for our research."
   ]
  },
  {
   "cell_type": "code",
   "execution_count": null,
   "metadata": {
    "vscode": {
     "languageId": "sql"
    }
   },
   "outputs": [],
   "source": [
    "-- nr of non-suspect mycotoxine measurements per sampcountry\n",
    "SELECT sampcountry, COUNT(*) AS n\n",
    "FROM efsa.vw_sample_measurement_core_legallimit sm\n",
    "JOIN efsa.tmp_mycotoxines t\n",
    "\tON sm.param = t.termextendedname\n",
    "WHERE sm.filetype = 'chemical'\n",
    "AND sm.sampstrategy = 'suspect sampling'\n",
    "GROUP BY sampcountry\n",
    "ORDER BY COUNT(*) DESC;"
   ]
  },
  {
   "cell_type": "markdown",
   "metadata": {
    "vscode": {
     "languageId": "sql"
    }
   },
   "source": [
    "### Let's look at the comparison of chemical contaminant measurements for Germany and Netherlands."
   ]
  },
  {
   "cell_type": "code",
   "execution_count": null,
   "metadata": {
    "vscode": {
     "languageId": "sql"
    }
   },
   "outputs": [],
   "source": [
    "-- compare chemical contaminants between germany and NL\n",
    "SELECT sampcountry, param, COUNT(*) AS n\n",
    "FROM efsa.vw_sample_measurement_core_legallimit sm\n",
    "WHERE sm.filetype = 'chemical'\n",
    "AND sampcountry IN ('netherlands', 'germany')\n",
    "GROUP BY sampcountry, param\n",
    "ORDER BY param, COUNT(*) DESC;"
   ]
  },
  {
   "cell_type": "markdown",
   "metadata": {
    "vscode": {
     "languageId": "sql"
    }
   },
   "source": [
    "### Again excluding suspicious samples..."
   ]
  },
  {
   "cell_type": "code",
   "execution_count": null,
   "metadata": {
    "vscode": {
     "languageId": "sql"
    }
   },
   "outputs": [],
   "source": [
    "-- compare chemical contaminants between germany and NL excl suspect sampling\n",
    "SELECT sampcountry, param, COUNT(*) AS n\n",
    "FROM efsa.vw_sample_measurement_core_legallimit sm\n",
    "WHERE sm.filetype = 'chemical'\n",
    "AND sampcountry IN ('netherlands', 'germany')\n",
    "AND sm.sampstrategy <> 'suspect sampling'\n",
    "GROUP BY sampcountry, param\n",
    "ORDER BY param, COUNT(*) DESC;"
   ]
  },
  {
   "cell_type": "markdown",
   "metadata": {},
   "source": [
    "### Let's select only mycotoxins, since we are interested in them."
   ]
  },
  {
   "cell_type": "code",
   "execution_count": null,
   "metadata": {
    "vscode": {
     "languageId": "sql"
    }
   },
   "outputs": [],
   "source": [
    "-- compare mycotoxine contaminants between germany and NL excl suspect sampling\n",
    "SELECT sampcountry,  param, COUNT(*) AS n\n",
    "FROM efsa.vw_sample_measurement_core_legallimit sm\n",
    "JOIN efsa.tmp_mycotoxines t\n",
    "\tON sm.param = t.termextendedname\n",
    "WHERE sm.filetype = 'chemical'\n",
    "AND sampcountry IN ('netherlands', 'germany')\n",
    "AND sm.sampstrategy <> 'suspect sampling'\n",
    "GROUP BY sampcountry, param\n",
    "ORDER BY COUNT(*) DESC;"
   ]
  },
  {
   "cell_type": "markdown",
   "metadata": {},
   "source": [
    "### We only looked at the number of measurements so far. What about the measurements that caught above legal limit mycotoxin contaminants?\n",
    "### Let's prepare a temporary table to use for this purpose."
   ]
  },
  {
   "cell_type": "code",
   "execution_count": null,
   "metadata": {
    "vscode": {
     "languageId": "sql"
    }
   },
   "outputs": [],
   "source": [
    "CREATE TEMPORARY TABLE tmp_mycos AS\n",
    "SELECT \t*,\n",
    "\t\tCASE \n",
    "\t\tWHEN evalcode IN ('greater than maximum permissible quantities', 'non compliant', 'unsatisfactory', 'detected') THEN 1\n",
    "\t\tELSE 0\n",
    "\t\tEND exceeding\n",
    "\t\t\n",
    "FROM efsa.vw_sample_measurement_core_legallimit\n",
    "WHERE filetype = 'chemical' \n",
    "AND param IN ('aflatoxin b1',\n",
    "'ochratoxin a',\n",
    "'deoxynivalenol',\n",
    "'zearalenone',\n",
    "'fumonisin b1',\n",
    "'fumonisin b2',\n",
    "'sum of fumonisin b1 + b2',\n",
    "'t-2 toxin',\n",
    "'ht-2 toxin',\n",
    "'sum t-2 and ht-2',\n",
    "'zearalenol alpha',\n",
    "'zearalanol',\n",
    "'zearalanone')\n",
    ";\n",
    "-- we are interested in these particular mycotoxins"
   ]
  },
  {
   "cell_type": "markdown",
   "metadata": {},
   "source": [
    "### Let's see the distribution of measurement results per country."
   ]
  },
  {
   "cell_type": "code",
   "execution_count": null,
   "metadata": {
    "vscode": {
     "languageId": "sql"
    }
   },
   "outputs": [],
   "source": [
    "-- evalcode\n",
    "SELECT sampcountry, evalcode, COUNT(*) AS n\n",
    "FROM tmp_mycos\n",
    "GROUP BY sampcountry, evalcode\n",
    "ORDER BY evalcode, COUNT(*) DESC\n",
    ";"
   ]
  },
  {
   "cell_type": "markdown",
   "metadata": {
    "vscode": {
     "languageId": "sql"
    }
   },
   "source": [
    "### How many are exceeding limits per country?"
   ]
  },
  {
   "cell_type": "code",
   "execution_count": null,
   "metadata": {
    "vscode": {
     "languageId": "sql"
    }
   },
   "outputs": [],
   "source": [
    "-- perc_exceeding\n",
    "SELECT sampcountry, n, n_exceeding, n_exceeding::numeric / n::numeric AS perc_exceeding\n",
    "FROM (\n",
    "\tSELECT sampcountry, COUNT(*) AS n, SUM(exceeding) AS n_exceeding\n",
    "\tFROM tmp_mycos\n",
    "\tGROUP BY sampcountry\n",
    ") AS t1\n",
    "ORDER BY n_exceeding::numeric / n::numeric DESC\n",
    ";"
   ]
  },
  {
   "cell_type": "markdown",
   "metadata": {},
   "source": [
    "### What about the Netherlands particularly?"
   ]
  },
  {
   "cell_type": "code",
   "execution_count": null,
   "metadata": {
    "vscode": {
     "languageId": "sql"
    }
   },
   "outputs": [],
   "source": [
    "SELECT sampy, n, n_exceeding, n_exceeding::numeric / n::numeric AS perc_exceeding\n",
    "FROM (\n",
    "\tSELECT sampy, COUNT(*) AS n, SUM(exceeding) AS n_exceeding\n",
    "\tFROM tmp_mycos\n",
    "\tWHERE sampcountry = 'netherlands'\n",
    "\tGROUP BY sampy\n",
    ") AS t1\n",
    "ORDER BY sampy ASC\n",
    ";"
   ]
  }
 ],
 "metadata": {
  "kernelspec": {
   "display_name": "base",
   "language": "python",
   "name": "python3"
  },
  "language_info": {
   "codemirror_mode": {
    "name": "ipython",
    "version": 3
   },
   "file_extension": ".py",
   "mimetype": "text/x-python",
   "name": "python",
   "nbconvert_exporter": "python",
   "pygments_lexer": "ipython3",
   "version": "3.11.5"
  }
 },
 "nbformat": 4,
 "nbformat_minor": 2
}
